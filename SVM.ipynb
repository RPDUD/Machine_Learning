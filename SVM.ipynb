{
 "cells": [
  {
   "cell_type": "code",
   "execution_count": 79,
   "id": "78c5bfc5",
   "metadata": {},
   "outputs": [],
   "source": [
    "import numpy as np"
   ]
  },
  {
   "cell_type": "code",
   "execution_count": 160,
   "id": "13f9b6be",
   "metadata": {},
   "outputs": [],
   "source": [
    "class SVM:\n",
    "    def __init__(self, X, y, C):\n",
    "        self.n = X.shape[1]\n",
    "        self.d = X.shape[0]\n",
    "        ones_arr = np.array([np.ones(self.d)])\n",
    "        self.X = np.concatenate((np.array(X), ones_arr.T), axis=1)\n",
    "        self.y = y\n",
    "        self.C = C\n",
    "        self.W = np.random.rand(self.n+1)\n",
    "        self.history = []\n",
    "        \n",
    "    def predict(self, X_pre):\n",
    "        y_pre = self.W.T.dot(X)\n",
    "        return y_pre\n",
    "\n",
    "    \n",
    "    def deviation(self):\n",
    "        deviation = [] \n",
    "        for i in range(0, self.d):\n",
    "            condition = 1 - self.y[i]*(np.array([self.W.dot(self.X[i])]))\n",
    "            if condition >= 0:\n",
    "                deviation.append(-self.y[i]*(self.X[i][:]) + (1/self.C)*self.W)\n",
    "            else:\n",
    "                deviation.append((1/self.C)*self.W)\n",
    "\n",
    "        return np.sum(deviation, axis=0)\n",
    "        \n",
    "    def fit(self, momentum=0.9, lr=0.1, n_epochs=100):\n",
    "        v = 0\n",
    "        for i in range(0, n_epochs):\n",
    "            v = v*momentum + lr*self.deviation()\n",
    "            self.W = self.W - v\n",
    "\n",
    "        return self.W\n",
    "        \n",
    "            \n",
    "            "
   ]
  },
  {
   "cell_type": "code",
   "execution_count": 161,
   "id": "ff2993bb",
   "metadata": {},
   "outputs": [
    {
     "data": {
      "text/plain": [
       "<matplotlib.collections.PathCollection at 0x183d89d0e20>"
      ]
     },
     "execution_count": 161,
     "metadata": {},
     "output_type": "execute_result"
    },
    {
     "data": {
      "image/png": "[encoded data removed]",
      "text/plain": [
       "<Figure size 432x288 with 1 Axes>"
      ]
     },
     "metadata": {
      "needs_background": "light"
     },
     "output_type": "display_data"
    }
   ],
   "source": [
    "import matplotlib.pyplot as plt\n",
    "\n",
    "X_train = np.array([[1, 3.2], [2, 3], [5,4], [7,4], [3, 5], [11, 2], [20,4], [33, 5], [30,2], [20, 1]])\n",
    "y_train = np.array([1, 1, 1, 1, 1, -1, -1, -1, -1, -1])\n",
    "\n",
    "plt.scatter(X_train.T[0], X_train.T[1], c=y_train)"
   ]
  },
  {
   "cell_type": "code",
   "execution_count": 293,
   "id": "564011ab",
   "metadata": {},
   "outputs": [
    {
     "data": {
      "text/plain": [
       "array([0.09202944, 0.85236103, 0.16725378])"
      ]
     },
     "execution_count": 293,
     "metadata": {},
     "output_type": "execute_result"
    }
   ],
   "source": [
    "svm = SVM(X_train, y_train, C=10)\n",
    "w = svm.fit(momentum=0.5, lr=0.000001, n_epochs=3000)\n",
    "w"
   ]
  },
  {
   "cell_type": "code",
   "execution_count": 294,
   "id": "33740af2",
   "metadata": {},
   "outputs": [
    {
     "data": {
      "text/plain": [
       "array([7., 4.])"
      ]
     },
     "execution_count": 294,
     "metadata": {},
     "output_type": "execute_result"
    }
   ],
   "source": [
    "X_train[3]"
   ]
  },
  {
   "cell_type": "code",
   "execution_count": 295,
   "id": "212f35ad",
   "metadata": {},
   "outputs": [
    {
     "data": {
      "text/plain": [
       "array([1.11164425, 7.65008939])"
      ]
     },
     "execution_count": 295,
     "metadata": {},
     "output_type": "execute_result"
    }
   ],
   "source": [
    "a_ = np.array([[1,1, 1], [35,5,1]])\n",
    "y_ = a_.dot(w)\n",
    "y_"
   ]
  },
  {
   "cell_type": "code",
   "execution_count": 296,
   "id": "638f4b9e",
   "metadata": {},
   "outputs": [
    {
     "data": {
      "text/plain": [
       "0.6802825245560151"
      ]
     },
     "execution_count": 296,
     "metadata": {},
     "output_type": "execute_result"
    }
   ],
   "source": [
    "margin = 1/(w[0]**2 + w[1]**2)**1/2\n",
    "margin"
   ]
  },
  {
   "cell_type": "code",
   "execution_count": 297,
   "id": "32a2ae0f",
   "metadata": {},
   "outputs": [],
   "source": [
    "k = (margin**2 + (margin*10/34)**2)**1/2"
   ]
  },
  {
   "cell_type": "code",
   "execution_count": 298,
   "id": "096b8f0c",
   "metadata": {},
   "outputs": [
    {
     "data": {
      "text/plain": [
       "[<matplotlib.lines.Line2D at 0x183dbd1a6a0>]"
      ]
     },
     "execution_count": 298,
     "metadata": {},
     "output_type": "execute_result"
    },
    {
     "data": {
      "image/png": "[encoded data removed]",
      "text/plain": [
       "<Figure size 432x288 with 1 Axes>"
      ]
     },
     "metadata": {
      "needs_background": "light"
     },
     "output_type": "display_data"
    }
   ],
   "source": [
    "plt.scatter(X_train.T[0], X_train.T[1], c=y_train)\n",
    "plt.plot(np.array([1, 35]), y_)\n",
    "plt.plot(np.array([1, 35]), y_ - k, 'r--')\n",
    "plt.plot(np.array([1, 35]), y_ + k, 'r--')"
   ]
  },
  {
   "cell_type": "code",
   "execution_count": null,
   "id": "d3d33bb6",
   "metadata": {},
   "outputs": [],
   "source": []
  },
  {
   "cell_type": "code",
   "execution_count": null,
   "id": "f95e13de",
   "metadata": {},
   "outputs": [],
   "source": []
  },
  {
   "cell_type": "code",
   "execution_count": null,
   "id": "b4f7f713",
   "metadata": {},
   "outputs": [],
   "source": []
  },
  {
   "cell_type": "code",
   "execution_count": null,
   "id": "aa450018",
   "metadata": {},
   "outputs": [],
   "source": []
  },
  {
   "cell_type": "code",
   "execution_count": null,
   "id": "20e45a0d",
   "metadata": {},
   "outputs": [],
   "source": []
  },
  {
   "cell_type": "code",
   "execution_count": null,
   "id": "19b063b3",
   "metadata": {},
   "outputs": [],
   "source": []
  }
 ],
 "metadata": {
  "kernelspec": {
   "display_name": "Python 3 (ipykernel)",
   "language": "python",
   "name": "python3"
  },
  "language_info": {
   "codemirror_mode": {
    "name": "ipython",
    "version": 3
   },
   "file_extension": ".py",
   "mimetype": "text/x-python",
   "name": "python",
   "nbconvert_exporter": "python",
   "pygments_lexer": "ipython3",
   "version": "3.9.12"
  }
 },
 "nbformat": 4,
 "nbformat_minor": 5
}
