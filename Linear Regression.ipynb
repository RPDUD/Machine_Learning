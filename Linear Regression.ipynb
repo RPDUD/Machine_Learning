{
 "cells": [
  {
   "cell_type": "code",
   "execution_count": 94,
   "id": "5d478801",
   "metadata": {},
   "outputs": [],
   "source": [
    "import numpy as np"
   ]
  },
  {
   "cell_type": "code",
   "execution_count": 153,
   "id": "23d80367",
   "metadata": {},
   "outputs": [],
   "source": [
    "class LinearRegression:\n",
    "    def __init__(self, X, y, reg='none', lamda=0):   \n",
    "        self.n = X.shape[1]\n",
    "        self.d = X.shape[0]\n",
    "        ones_arr = np.array([np.ones(self.n)])\n",
    "        self.X = np.concatenate((np.array(X), ones_arr), axis=0).T\n",
    "        self.y = y\n",
    "        self.reg = reg\n",
    "        self.lamda = lamda\n",
    "        if (self.reg == 'none'):\n",
    "            self.lamda = 0\n",
    "        self.W = np.random.rand(self.d+1)\n",
    "        \n",
    "        \n",
    "    def predict(self, X_pre):\n",
    "        y_pre = self.W.dot(self.X_pre)\n",
    "        return y_pre\n",
    "    \n",
    "    def loss_func(self):\n",
    "        if (self.reg == 'none'):\n",
    "            loss = 1/(2*self.n)*np.sum(np.sqrt((self.y - self.X.dot(self.W))**2))\n",
    "        elif (self.reg == 'l1'):\n",
    "            loss = 1/(2*self.n)*np.sum(np.sqrt((self.y - self.X.dot(self.W))**2)) + self.lamda*np.sum(np.abs(self.W))\n",
    "        else:\n",
    "            loss = 1/(2*self.n)*np.sum(np.sqrt((self.y - self.X.dot(self.W))**2)) + self.lamda*np.sum((self.W)**2)\n",
    "        return loss\n",
    "    \n",
    "    def deviation_func(self):\n",
    "        if (self.reg == 'none'):\n",
    "            deviation = (1/self.n)*self.X.T.dot(self.X.dot(self.W) - self.y)\n",
    "        elif(self.reg == 'l1'):\n",
    "            deviation = (1/self.n)*self.X.T.dot(self.X.dot(self.W) - self.y) + self.lamda\n",
    "        else:\n",
    "            deviation = (1/self.n)*self.X.T.dot(self.X.dot(self.W) - self.y) + 2*self.lamda*self.W\n",
    "        \n",
    "        return deviation\n",
    "    \n",
    "    def fit(self, momentum=0.9, lr=0.1, n_epochs=100):\n",
    "        v = 0\n",
    "        for i in range(0, n_epochs):\n",
    "            v = momentum*v + lr*self.deviation_func()\n",
    "            self.W = self.W - v\n",
    "            print(self.loss_func())\n",
    "        \n",
    "        return self.W          \n",
    "                  \n",
    "        \n",
    "        "
   ]
  },
  {
   "cell_type": "code",
   "execution_count": 154,
   "id": "ea42e5db",
   "metadata": {},
   "outputs": [
    {
     "data": {
      "text/plain": [
       "<matplotlib.collections.PathCollection at 0x1d1feb02d00>"
      ]
     },
     "execution_count": 154,
     "metadata": {},
     "output_type": "execute_result"
    },
    {
     "data": {
      "image/png": "[encoded data removed]",
      "text/plain": [
       "<Figure size 432x288 with 1 Axes>"
      ]
     },
     "metadata": {
      "needs_background": "light"
     },
     "output_type": "display_data"
    }
   ],
   "source": [
    "import matplotlib.pyplot as plt\n",
    "\n",
    "X_train = np.array([[3.5, 4, 7, 9, 15, 20]])\n",
    "y_train = np.array([5, 7, 10, 12, 20, 30])\n",
    "\n",
    "\n",
    "plt.scatter(X_train, y_train)"
   ]
  },
  {
   "cell_type": "code",
   "execution_count": 155,
   "id": "0fb55345",
   "metadata": {
    "scrolled": true
   },
   "outputs": [
    {
     "name": "stdout",
     "output_type": "stream",
     "text": [
      "6\n",
      "8.561630909844169\n",
      "8.562529499585445\n",
      "8.563512833778404\n",
      "8.564477429694794\n",
      "8.565368350828354\n",
      "8.566157376899817\n",
      "8.566830877219834\n",
      "8.567383125361609\n",
      "8.567812637480596\n",
      "8.568120178147435\n",
      "8.568307679929275\n",
      "8.568377660936589\n",
      "8.568332912453638\n",
      "8.568176332439153\n",
      "8.567910837511855\n",
      "8.567539317015953\n",
      "8.567064609570714\n",
      "8.566489491590492\n",
      "8.565816672150994\n",
      "8.565048791201212\n",
      "8.56418841952423\n",
      "8.563238059599284\n",
      "8.56220014691629\n",
      "8.561077051505897\n",
      "8.559871079560523\n",
      "8.558584475081249\n",
      "8.557219421516832\n",
      "8.555778043377682\n",
      "8.554262407816337\n",
      "8.552674526170536\n",
      "8.551016355467405\n",
      "8.549289799888458\n",
      "8.547496712195798\n",
      "8.545638895120206\n",
      "8.54371810271194\n",
      "8.54173604165518\n",
      "8.539694372547027\n",
      "8.537594711141987\n",
      "8.535438629562877\n",
      "8.533227657479038\n",
      "8.53096328325272\n",
      "8.528646955054537\n",
      "8.526280081948785\n",
      "8.523864034949451\n",
      "8.521400148047722\n",
      "8.518889719211733\n",
      "8.516334011359328\n",
      "8.513734253304541\n",
      "8.51109164067853\n",
      "8.508407336825636\n",
      "8.505682473675249\n",
      "8.50291815259013\n",
      "8.500115445191817\n",
      "8.49727539416376\n",
      "8.49439901403274\n",
      "8.491487291929221\n",
      "8.488541188327146\n",
      "8.485561637763753\n",
      "8.482549549539979\n",
      "8.479505808401921\n",
      "8.476431275203915\n",
      "8.473326787553699\n",
      "8.470193160440157\n",
      "8.467031186844116\n",
      "8.463841638332642\n",
      "8.460625265637292\n",
      "8.45738279921675\n",
      "8.454114949804275\n",
      "8.450938669748561\n",
      "8.450432552319372\n",
      "8.449825810631973\n",
      "8.449121168093672\n",
      "8.44832127456932\n",
      "8.447428708367237\n",
      "8.446445978171498\n",
      "8.445375524922051\n",
      "8.447378063340746\n",
      "8.44997643074971\n",
      "8.452390904525053\n",
      "8.454626456626288\n",
      "8.456687924751197\n",
      "8.458580015961418\n",
      "8.460307310210089\n",
      "8.461874263774261\n",
      "8.463285212594608\n",
      "8.464544375524953\n",
      "8.465655857494058\n",
      "8.466623652582017\n",
      "8.467451647013576\n",
      "8.468143622070647\n",
      "8.468703256926133\n",
      "8.469134131401267\n",
      "8.469439728648469\n",
      "8.469623437761761\n",
      "8.46968855631671\n",
      "8.469638292841735\n",
      "8.469475769222736\n",
      "8.469204023042769\n",
      "8.468826009858512\n",
      "8.468344605415295\n",
      "8.467762607802312\n",
      "8.467082739549609\n",
      "8.466307649668469\n",
      "8.465439915636697\n",
      "8.464482045330278\n",
      "8.4634364789029\n",
      "8.462305590614694\n",
      "8.461091690611608\n",
      "8.459797026656739\n",
      "8.458423785814887\n",
      "8.456974096091646\n",
      "8.45545002802821\n",
      "8.453853596253136\n",
      "8.452186760992198\n",
      "8.450451429537448\n",
      "8.44864945767663\n",
      "8.446782651083995\n",
      "8.444852766673538\n",
      "8.442861513915723\n",
      "8.440810556118622\n",
      "8.438701511674473\n",
      "8.436535955272577\n",
      "8.434315419079445\n",
      "8.432041393887056\n",
      "8.42971533023014\n",
      "8.427422427578515\n",
      "8.425118816807004\n",
      "8.422760901207422\n",
      "8.420350153510277\n",
      "8.417888006676538\n",
      "8.415375854971568\n",
      "8.412815055010027\n",
      "8.410206926772613\n",
      "8.407552754595288\n",
      "8.404853788131831\n",
      "8.402111243290387\n",
      "8.399326303144715\n",
      "8.39650011882085\n",
      "8.393633810359804\n",
      "8.390728467556974\n",
      "8.3877851507789\n",
      "8.38480489175793\n",
      "8.381788694365477\n",
      "8.378737535364346\n",
      "8.375652365140775\n",
      "8.372534108416708\n",
      "8.36938366494281\n",
      "8.3662019101728\n",
      "8.36298969591955\n",
      "8.359747850993479\n",
      "8.356477181823704\n",
      "8.353178473062417\n",
      "8.349852488172946\n",
      "8.346499970001927\n",
      "8.343121641336044\n",
      "8.339718205443704\n",
      "8.336290346602121\n",
      "8.332838730610137\n",
      "8.32936400528721\n",
      "8.32586680095893\n",
      "8.322347730929405\n",
      "8.318807391940915\n",
      "8.315246364621148\n",
      "8.311665213918337\n",
      "8.308064489524678\n",
      "8.304444726288292\n",
      "8.300806444614075\n",
      "8.297150150853716\n",
      "8.293476337685185\n",
      "8.289785484481978\n",
      "8.286078057672388\n",
      "8.28235451108906\n",
      "8.278615286309144\n",
      "8.274860812985217\n",
      "8.271091509167302\n",
      "8.267307781616179\n",
      "8.263510026108237\n",
      "8.259698627732089\n",
      "8.255873961177183\n",
      "8.252036391014624\n",
      "8.2481862719704\n",
      "8.244323949191237\n",
      "8.240449758503285\n",
      "8.23656402666379\n",
      "8.232667071606008\n",
      "8.228759202677464\n",
      "8.224840720871825\n",
      "8.220911919054457\n",
      "8.216973082181944\n",
      "8.213024487515638\n",
      "8.209119190015588\n",
      "8.205225952904799\n",
      "8.20132481833221\n",
      "8.197416005668746\n",
      "8.193499728361163\n",
      "8.189576194092028\n",
      "8.185645604935388\n",
      "8.181708157508197\n",
      "8.177764043117698\n",
      "8.173813447904799\n"
     ]
    }
   ],
   "source": [
    "lg = LinearRegression(X_train, y_train, reg='l1', lamda=5)\n",
    "w = lg.fit(momentum=0.5, lr=0.0001, n_epochs=200)"
   ]
  },
  {
   "cell_type": "code",
   "execution_count": 156,
   "id": "b2098141",
   "metadata": {},
   "outputs": [
    {
     "data": {
      "text/plain": [
       "(1, 6)"
      ]
     },
     "execution_count": 156,
     "metadata": {},
     "output_type": "execute_result"
    }
   ],
   "source": [
    "X_train.shape"
   ]
  },
  {
   "cell_type": "code",
   "execution_count": 157,
   "id": "b093ce97",
   "metadata": {},
   "outputs": [
    {
     "data": {
      "text/plain": [
       "<matplotlib.collections.PathCollection at 0x1d1feb79880>"
      ]
     },
     "execution_count": 157,
     "metadata": {},
     "output_type": "execute_result"
    },
    {
     "data": {
      "image/png": "[encoded data removed]",
      "text/plain": [
       "<Figure size 432x288 with 1 Axes>"
      ]
     },
     "metadata": {
      "needs_background": "light"
     },
     "output_type": "display_data"
    }
   ],
   "source": [
    "y_ = np.array([3.5*w[0] + w[1], 20*w[0] + w[1]])\n",
    "x_ = np.array([3.5, 20])\n",
    "\n",
    "plt.plot(x_, y_)\n",
    "plt.scatter(X_train, y_train)"
   ]
  },
  {
   "cell_type": "code",
   "execution_count": null,
   "id": "cee53e6a",
   "metadata": {},
   "outputs": [],
   "source": []
  },
  {
   "cell_type": "code",
   "execution_count": null,
   "id": "feaae604",
   "metadata": {},
   "outputs": [],
   "source": []
  }
 ],
 "metadata": {
  "kernelspec": {
   "display_name": "Python 3 (ipykernel)",
   "language": "python",
   "name": "python3"
  },
  "language_info": {
   "codemirror_mode": {
    "name": "ipython",
    "version": 3
   },
   "file_extension": ".py",
   "mimetype": "text/x-python",
   "name": "python",
   "nbconvert_exporter": "python",
   "pygments_lexer": "ipython3",
   "version": "3.9.12"
  }
 },
 "nbformat": 4,
 "nbformat_minor": 5
}
